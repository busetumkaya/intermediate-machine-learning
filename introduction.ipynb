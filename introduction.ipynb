{
 "cells": [
  {
   "cell_type": "markdown",
   "id": "695140e9",
   "metadata": {
    "papermill": {
     "duration": 0.004609,
     "end_time": "2025-05-04T17:58:57.080056",
     "exception": false,
     "start_time": "2025-05-04T17:58:57.075447",
     "status": "completed"
    },
    "tags": []
   },
   "source": [
    "**This notebook is an exercise in the [Intermediate Machine Learning](https://www.kaggle.com/learn/intermediate-machine-learning) course.  You can reference the tutorial at [this link](https://www.kaggle.com/alexisbcook/introduction).**\n",
    "\n",
    "---\n"
   ]
  },
  {
   "cell_type": "markdown",
   "id": "183cfb86",
   "metadata": {
    "papermill": {
     "duration": 0.003555,
     "end_time": "2025-05-04T17:58:57.087835",
     "exception": false,
     "start_time": "2025-05-04T17:58:57.084280",
     "status": "completed"
    },
    "tags": []
   },
   "source": [
    "As a warm-up, you'll review some machine learning fundamentals and submit your initial results to a Kaggle competition.\n",
    "\n",
    "# Setup\n",
    "\n",
    "The questions below will give you feedback on your work. Run the following cell to set up the feedback system."
   ]
  },
  {
   "cell_type": "code",
   "execution_count": 1,
   "id": "86eb2b7a",
   "metadata": {
    "execution": {
     "iopub.execute_input": "2025-05-04T17:58:57.096830Z",
     "iopub.status.busy": "2025-05-04T17:58:57.096496Z",
     "iopub.status.idle": "2025-05-04T17:59:01.386153Z",
     "shell.execute_reply": "2025-05-04T17:59:01.384528Z"
    },
    "papermill": {
     "duration": 4.296645,
     "end_time": "2025-05-04T17:59:01.388334",
     "exception": false,
     "start_time": "2025-05-04T17:58:57.091689",
     "status": "completed"
    },
    "tags": []
   },
   "outputs": [
    {
     "name": "stdout",
     "output_type": "stream",
     "text": [
      "Setup Complete\n"
     ]
    }
   ],
   "source": [
    "# Set up code checking\n",
    "import os\n",
    "if not os.path.exists(\"../input/train.csv\"):\n",
    "    os.symlink(\"../input/home-data-for-ml-course/train.csv\", \"../input/train.csv\")  \n",
    "    os.symlink(\"../input/home-data-for-ml-course/test.csv\", \"../input/test.csv\")  \n",
    "from learntools.core import binder\n",
    "binder.bind(globals())\n",
    "from learntools.ml_intermediate.ex1 import *\n",
    "print(\"Setup Complete\")"
   ]
  },
  {
   "cell_type": "markdown",
   "id": "14ec3032",
   "metadata": {
    "papermill": {
     "duration": 0.003782,
     "end_time": "2025-05-04T17:59:01.396413",
     "exception": false,
     "start_time": "2025-05-04T17:59:01.392631",
     "status": "completed"
    },
    "tags": []
   },
   "source": [
    "You will work with data from the [Housing Prices Competition for Kaggle Learn Users](https://www.kaggle.com/c/home-data-for-ml-course) to predict home prices in Iowa using 79 explanatory variables describing (almost) every aspect of the homes.  \n",
    "\n",
    "![Ames Housing dataset image](https://storage.googleapis.com/kaggle-media/learn/images/lTJVG4e.png)\n",
    "\n",
    "Run the next code cell without changes to load the training and validation features in `X_train` and `X_valid`, along with the prediction targets in `y_train` and `y_valid`.  The test features are loaded in `X_test`.  (_If you need to review **features** and **prediction targets**, please check out [this short tutorial](https://www.kaggle.com/dansbecker/your-first-machine-learning-model).  To read about model **validation**, look [here](https://www.kaggle.com/dansbecker/model-validation).  Alternatively, if you'd prefer to look through a full course to review all of these topics, start [here](https://www.kaggle.com/learn/machine-learning).)_"
   ]
  },
  {
   "cell_type": "code",
   "execution_count": 2,
   "id": "2d995f69",
   "metadata": {
    "execution": {
     "iopub.execute_input": "2025-05-04T17:59:01.405687Z",
     "iopub.status.busy": "2025-05-04T17:59:01.405164Z",
     "iopub.status.idle": "2025-05-04T17:59:01.515953Z",
     "shell.execute_reply": "2025-05-04T17:59:01.515170Z"
    },
    "papermill": {
     "duration": 0.117369,
     "end_time": "2025-05-04T17:59:01.517633",
     "exception": false,
     "start_time": "2025-05-04T17:59:01.400264",
     "status": "completed"
    },
    "tags": []
   },
   "outputs": [],
   "source": [
    "import pandas as pd\n",
    "from sklearn.model_selection import train_test_split\n",
    "\n",
    "# Read the data\n",
    "X_full = pd.read_csv('../input/train.csv', index_col='Id')\n",
    "X_test_full = pd.read_csv('../input/test.csv', index_col='Id')\n",
    "\n",
    "# Obtain target and predictors\n",
    "y = X_full.SalePrice\n",
    "features = ['LotArea', 'YearBuilt', '1stFlrSF', '2ndFlrSF', 'FullBath', 'BedroomAbvGr', 'TotRmsAbvGrd']\n",
    "X = X_full[features].copy()\n",
    "X_test = X_test_full[features].copy()\n",
    "\n",
    "# Break off validation set from training data\n",
    "X_train, X_valid, y_train, y_valid = train_test_split(X, y, train_size=0.8, test_size=0.2,\n",
    "                                                      random_state=0)"
   ]
  },
  {
   "cell_type": "markdown",
   "id": "b9e61c6e",
   "metadata": {
    "papermill": {
     "duration": 0.003689,
     "end_time": "2025-05-04T17:59:01.525329",
     "exception": false,
     "start_time": "2025-05-04T17:59:01.521640",
     "status": "completed"
    },
    "tags": []
   },
   "source": [
    "Use the next cell to print the first several rows of the data. It's a nice way to get an overview of the data you will use in your price prediction model."
   ]
  },
  {
   "cell_type": "code",
   "execution_count": 3,
   "id": "100ee869",
   "metadata": {
    "execution": {
     "iopub.execute_input": "2025-05-04T17:59:01.534279Z",
     "iopub.status.busy": "2025-05-04T17:59:01.533874Z",
     "iopub.status.idle": "2025-05-04T17:59:01.556720Z",
     "shell.execute_reply": "2025-05-04T17:59:01.555673Z"
    },
    "papermill": {
     "duration": 0.029279,
     "end_time": "2025-05-04T17:59:01.558380",
     "exception": false,
     "start_time": "2025-05-04T17:59:01.529101",
     "status": "completed"
    },
    "tags": []
   },
   "outputs": [
    {
     "data": {
      "text/html": [
       "<div>\n",
       "<style scoped>\n",
       "    .dataframe tbody tr th:only-of-type {\n",
       "        vertical-align: middle;\n",
       "    }\n",
       "\n",
       "    .dataframe tbody tr th {\n",
       "        vertical-align: top;\n",
       "    }\n",
       "\n",
       "    .dataframe thead th {\n",
       "        text-align: right;\n",
       "    }\n",
       "</style>\n",
       "<table border=\"1\" class=\"dataframe\">\n",
       "  <thead>\n",
       "    <tr style=\"text-align: right;\">\n",
       "      <th></th>\n",
       "      <th>LotArea</th>\n",
       "      <th>YearBuilt</th>\n",
       "      <th>1stFlrSF</th>\n",
       "      <th>2ndFlrSF</th>\n",
       "      <th>FullBath</th>\n",
       "      <th>BedroomAbvGr</th>\n",
       "      <th>TotRmsAbvGrd</th>\n",
       "    </tr>\n",
       "    <tr>\n",
       "      <th>Id</th>\n",
       "      <th></th>\n",
       "      <th></th>\n",
       "      <th></th>\n",
       "      <th></th>\n",
       "      <th></th>\n",
       "      <th></th>\n",
       "      <th></th>\n",
       "    </tr>\n",
       "  </thead>\n",
       "  <tbody>\n",
       "    <tr>\n",
       "      <th>619</th>\n",
       "      <td>11694</td>\n",
       "      <td>2007</td>\n",
       "      <td>1828</td>\n",
       "      <td>0</td>\n",
       "      <td>2</td>\n",
       "      <td>3</td>\n",
       "      <td>9</td>\n",
       "    </tr>\n",
       "    <tr>\n",
       "      <th>871</th>\n",
       "      <td>6600</td>\n",
       "      <td>1962</td>\n",
       "      <td>894</td>\n",
       "      <td>0</td>\n",
       "      <td>1</td>\n",
       "      <td>2</td>\n",
       "      <td>5</td>\n",
       "    </tr>\n",
       "    <tr>\n",
       "      <th>93</th>\n",
       "      <td>13360</td>\n",
       "      <td>1921</td>\n",
       "      <td>964</td>\n",
       "      <td>0</td>\n",
       "      <td>1</td>\n",
       "      <td>2</td>\n",
       "      <td>5</td>\n",
       "    </tr>\n",
       "    <tr>\n",
       "      <th>818</th>\n",
       "      <td>13265</td>\n",
       "      <td>2002</td>\n",
       "      <td>1689</td>\n",
       "      <td>0</td>\n",
       "      <td>2</td>\n",
       "      <td>3</td>\n",
       "      <td>7</td>\n",
       "    </tr>\n",
       "    <tr>\n",
       "      <th>303</th>\n",
       "      <td>13704</td>\n",
       "      <td>2001</td>\n",
       "      <td>1541</td>\n",
       "      <td>0</td>\n",
       "      <td>2</td>\n",
       "      <td>3</td>\n",
       "      <td>6</td>\n",
       "    </tr>\n",
       "  </tbody>\n",
       "</table>\n",
       "</div>"
      ],
      "text/plain": [
       "     LotArea  YearBuilt  1stFlrSF  2ndFlrSF  FullBath  BedroomAbvGr  \\\n",
       "Id                                                                    \n",
       "619    11694       2007      1828         0         2             3   \n",
       "871     6600       1962       894         0         1             2   \n",
       "93     13360       1921       964         0         1             2   \n",
       "818    13265       2002      1689         0         2             3   \n",
       "303    13704       2001      1541         0         2             3   \n",
       "\n",
       "     TotRmsAbvGrd  \n",
       "Id                 \n",
       "619             9  \n",
       "871             5  \n",
       "93              5  \n",
       "818             7  \n",
       "303             6  "
      ]
     },
     "execution_count": 3,
     "metadata": {},
     "output_type": "execute_result"
    }
   ],
   "source": [
    "X_train.head()"
   ]
  },
  {
   "cell_type": "markdown",
   "id": "fea623a8",
   "metadata": {
    "papermill": {
     "duration": 0.003914,
     "end_time": "2025-05-04T17:59:01.566602",
     "exception": false,
     "start_time": "2025-05-04T17:59:01.562688",
     "status": "completed"
    },
    "tags": []
   },
   "source": [
    "The next code cell defines five different random forest models.  Run this code cell without changes.  (_To review **random forests**, look [here](https://www.kaggle.com/dansbecker/random-forests)._)"
   ]
  },
  {
   "cell_type": "code",
   "execution_count": 4,
   "id": "22165046",
   "metadata": {
    "execution": {
     "iopub.execute_input": "2025-05-04T17:59:01.575827Z",
     "iopub.status.busy": "2025-05-04T17:59:01.575499Z",
     "iopub.status.idle": "2025-05-04T17:59:01.581777Z",
     "shell.execute_reply": "2025-05-04T17:59:01.580736Z"
    },
    "papermill": {
     "duration": 0.01291,
     "end_time": "2025-05-04T17:59:01.583437",
     "exception": false,
     "start_time": "2025-05-04T17:59:01.570527",
     "status": "completed"
    },
    "tags": []
   },
   "outputs": [],
   "source": [
    "from sklearn.ensemble import RandomForestRegressor\n",
    "\n",
    "# Define the models\n",
    "model_1 = RandomForestRegressor(n_estimators=50, random_state=0)\n",
    "model_2 = RandomForestRegressor(n_estimators=100, random_state=0)\n",
    "model_3 = RandomForestRegressor(n_estimators=100, criterion='absolute_error', random_state=0)\n",
    "model_4 = RandomForestRegressor(n_estimators=200, min_samples_split=20, random_state=0)\n",
    "model_5 = RandomForestRegressor(n_estimators=100, max_depth=7, random_state=0)\n",
    "\n",
    "models = [model_1, model_2, model_3, model_4, model_5]"
   ]
  },
  {
   "cell_type": "markdown",
   "id": "c651bc65",
   "metadata": {
    "papermill": {
     "duration": 0.003745,
     "end_time": "2025-05-04T17:59:01.591422",
     "exception": false,
     "start_time": "2025-05-04T17:59:01.587677",
     "status": "completed"
    },
    "tags": []
   },
   "source": [
    "To select the best model out of the five, we define a function `score_model()` below.  This function returns the mean absolute error (MAE) from the validation set.  Recall that the best model will obtain the lowest MAE.  (_To review **mean absolute error**, look [here](https://www.kaggle.com/dansbecker/model-validation).)_\n",
    "\n",
    "Run the code cell without changes."
   ]
  },
  {
   "cell_type": "code",
   "execution_count": 5,
   "id": "54a88320",
   "metadata": {
    "execution": {
     "iopub.execute_input": "2025-05-04T17:59:01.600530Z",
     "iopub.status.busy": "2025-05-04T17:59:01.600170Z",
     "iopub.status.idle": "2025-05-04T17:59:06.616187Z",
     "shell.execute_reply": "2025-05-04T17:59:06.615195Z"
    },
    "papermill": {
     "duration": 5.022503,
     "end_time": "2025-05-04T17:59:06.617726",
     "exception": false,
     "start_time": "2025-05-04T17:59:01.595223",
     "status": "completed"
    },
    "tags": []
   },
   "outputs": [
    {
     "name": "stdout",
     "output_type": "stream",
     "text": [
      "Model 1 MAE: 24015\n",
      "Model 2 MAE: 23740\n",
      "Model 3 MAE: 23528\n",
      "Model 4 MAE: 23996\n",
      "Model 5 MAE: 23706\n"
     ]
    }
   ],
   "source": [
    "from sklearn.metrics import mean_absolute_error\n",
    "\n",
    "# Function for comparing different models\n",
    "def score_model(model, X_t=X_train, X_v=X_valid, y_t=y_train, y_v=y_valid):\n",
    "    model.fit(X_t, y_t)\n",
    "    preds = model.predict(X_v)\n",
    "    return mean_absolute_error(y_v, preds)\n",
    "\n",
    "for i in range(0, len(models)):\n",
    "    mae = score_model(models[i])\n",
    "    print(\"Model %d MAE: %d\" % (i+1, mae))"
   ]
  },
  {
   "cell_type": "markdown",
   "id": "b53f54c8",
   "metadata": {
    "papermill": {
     "duration": 0.003985,
     "end_time": "2025-05-04T17:59:06.626201",
     "exception": false,
     "start_time": "2025-05-04T17:59:06.622216",
     "status": "completed"
    },
    "tags": []
   },
   "source": [
    "# Step 1: Evaluate several models\n",
    "\n",
    "Use the above results to fill in the line below.  Which model is the best model?  Your answer should be one of `model_1`, `model_2`, `model_3`, `model_4`, or `model_5`."
   ]
  },
  {
   "cell_type": "code",
   "execution_count": 6,
   "id": "f078c1ea",
   "metadata": {
    "execution": {
     "iopub.execute_input": "2025-05-04T17:59:06.635890Z",
     "iopub.status.busy": "2025-05-04T17:59:06.635542Z",
     "iopub.status.idle": "2025-05-04T17:59:06.643130Z",
     "shell.execute_reply": "2025-05-04T17:59:06.642312Z"
    },
    "papermill": {
     "duration": 0.014212,
     "end_time": "2025-05-04T17:59:06.644597",
     "exception": false,
     "start_time": "2025-05-04T17:59:06.630385",
     "status": "completed"
    },
    "tags": []
   },
   "outputs": [
    {
     "data": {
      "application/javascript": [
       "parent.postMessage({\"jupyterEvent\": \"custom.exercise_interaction\", \"data\": {\"outcomeType\": 1, \"valueTowardsCompletion\": 0.5, \"interactionType\": 1, \"questionType\": 2, \"questionId\": \"1_BestModel\", \"learnToolsVersion\": \"0.3.5\", \"failureMessage\": \"\", \"exceptionClass\": \"\", \"trace\": \"\"}}, \"*\")"
      ],
      "text/plain": [
       "<IPython.core.display.Javascript object>"
      ]
     },
     "metadata": {},
     "output_type": "display_data"
    },
    {
     "data": {
      "text/markdown": [
       "<span style=\"color:#33cc33\">Correct</span>"
      ],
      "text/plain": [
       "Correct"
      ]
     },
     "metadata": {},
     "output_type": "display_data"
    }
   ],
   "source": [
    "# Fill in the best model\n",
    "best_model = model_3\n",
    "\n",
    "# Check your answer\n",
    "step_1.check()"
   ]
  },
  {
   "cell_type": "code",
   "execution_count": 7,
   "id": "978f9cde",
   "metadata": {
    "execution": {
     "iopub.execute_input": "2025-05-04T17:59:06.655505Z",
     "iopub.status.busy": "2025-05-04T17:59:06.655129Z",
     "iopub.status.idle": "2025-05-04T17:59:06.659406Z",
     "shell.execute_reply": "2025-05-04T17:59:06.658411Z"
    },
    "papermill": {
     "duration": 0.011861,
     "end_time": "2025-05-04T17:59:06.660994",
     "exception": false,
     "start_time": "2025-05-04T17:59:06.649133",
     "status": "completed"
    },
    "tags": []
   },
   "outputs": [],
   "source": [
    "# Lines below will give you a hint or solution code\n",
    "#step_1.hint()\n",
    "#step_1.solution()"
   ]
  },
  {
   "cell_type": "markdown",
   "id": "9e328c35",
   "metadata": {
    "papermill": {
     "duration": 0.00421,
     "end_time": "2025-05-04T17:59:06.669746",
     "exception": false,
     "start_time": "2025-05-04T17:59:06.665536",
     "status": "completed"
    },
    "tags": []
   },
   "source": [
    "# Step 2: Generate test predictions\n",
    "\n",
    "Great. You know how to evaluate what makes an accurate model. Now it's time to go through the modeling process and make predictions. In the line below, create a Random Forest model with the variable name `my_model`."
   ]
  },
  {
   "cell_type": "code",
   "execution_count": 8,
   "id": "5c6a2ba3",
   "metadata": {
    "execution": {
     "iopub.execute_input": "2025-05-04T17:59:06.679670Z",
     "iopub.status.busy": "2025-05-04T17:59:06.679362Z",
     "iopub.status.idle": "2025-05-04T17:59:06.687304Z",
     "shell.execute_reply": "2025-05-04T17:59:06.686254Z"
    },
    "papermill": {
     "duration": 0.014828,
     "end_time": "2025-05-04T17:59:06.688888",
     "exception": false,
     "start_time": "2025-05-04T17:59:06.674060",
     "status": "completed"
    },
    "tags": []
   },
   "outputs": [
    {
     "data": {
      "application/javascript": [
       "parent.postMessage({\"jupyterEvent\": \"custom.exercise_interaction\", \"data\": {\"outcomeType\": 1, \"valueTowardsCompletion\": 0.5, \"interactionType\": 1, \"questionType\": 2, \"questionId\": \"2_Predictions\", \"learnToolsVersion\": \"0.3.5\", \"failureMessage\": \"\", \"exceptionClass\": \"\", \"trace\": \"\"}}, \"*\")"
      ],
      "text/plain": [
       "<IPython.core.display.Javascript object>"
      ]
     },
     "metadata": {},
     "output_type": "display_data"
    },
    {
     "data": {
      "text/markdown": [
       "<span style=\"color:#33cc33\">Correct</span>"
      ],
      "text/plain": [
       "Correct"
      ]
     },
     "metadata": {},
     "output_type": "display_data"
    }
   ],
   "source": [
    "# Define a model\n",
    "my_model = RandomForestRegressor(n_estimators=150, criterion='absolute_error', random_state=0)\n",
    "\n",
    "# Check your answer\n",
    "step_2.check()"
   ]
  },
  {
   "cell_type": "code",
   "execution_count": 9,
   "id": "65bba5c6",
   "metadata": {
    "execution": {
     "iopub.execute_input": "2025-05-04T17:59:06.699717Z",
     "iopub.status.busy": "2025-05-04T17:59:06.699387Z",
     "iopub.status.idle": "2025-05-04T17:59:06.703401Z",
     "shell.execute_reply": "2025-05-04T17:59:06.702435Z"
    },
    "papermill": {
     "duration": 0.011138,
     "end_time": "2025-05-04T17:59:06.704908",
     "exception": false,
     "start_time": "2025-05-04T17:59:06.693770",
     "status": "completed"
    },
    "tags": []
   },
   "outputs": [],
   "source": [
    "# Lines below will give you a hint or solution code\n",
    "#step_2.hint()\n",
    "#step_2.solution()"
   ]
  },
  {
   "cell_type": "markdown",
   "id": "d9b8cad3",
   "metadata": {
    "papermill": {
     "duration": 0.0044,
     "end_time": "2025-05-04T17:59:06.714037",
     "exception": false,
     "start_time": "2025-05-04T17:59:06.709637",
     "status": "completed"
    },
    "tags": []
   },
   "source": [
    "Run the next code cell without changes.  The code fits the model to the training and validation data, and then generates test predictions that are saved to a CSV file.  These test predictions can be submitted directly to the competition!"
   ]
  },
  {
   "cell_type": "code",
   "execution_count": 10,
   "id": "78a64158",
   "metadata": {
    "execution": {
     "iopub.execute_input": "2025-05-04T17:59:06.725110Z",
     "iopub.status.busy": "2025-05-04T17:59:06.724801Z",
     "iopub.status.idle": "2025-05-04T17:59:13.288045Z",
     "shell.execute_reply": "2025-05-04T17:59:13.286779Z"
    },
    "papermill": {
     "duration": 6.571738,
     "end_time": "2025-05-04T17:59:13.290344",
     "exception": false,
     "start_time": "2025-05-04T17:59:06.718606",
     "status": "completed"
    },
    "tags": []
   },
   "outputs": [],
   "source": [
    "# Fit the model to the training data\n",
    "my_model.fit(X, y)\n",
    "\n",
    "# Generate test predictions\n",
    "preds_test = my_model.predict(X_test)\n",
    "\n",
    "# Save predictions in format used for competition scoring\n",
    "output = pd.DataFrame({'Id': X_test.index,\n",
    "                       'SalePrice': preds_test})\n",
    "output.to_csv('submission.csv', index=False)"
   ]
  },
  {
   "cell_type": "markdown",
   "id": "6211f8df",
   "metadata": {
    "papermill": {
     "duration": 0.004557,
     "end_time": "2025-05-04T17:59:13.300388",
     "exception": false,
     "start_time": "2025-05-04T17:59:13.295831",
     "status": "completed"
    },
    "tags": []
   },
   "source": [
    "# Submit your results\n",
    "\n",
    "Once you have successfully completed Step 2, you're ready to submit your results to the leaderboard!  First, you'll need to join the competition if you haven't already.  So open a new window by clicking on [this link](https://www.kaggle.com/c/home-data-for-ml-course).  Then click on the **Join Competition** button.  _(If you see a \"Submit Predictions\" button instead of a \"Join Competition\" button, you have already joined the competition, and don't need to do so again.)_\n",
    "\n",
    "Next, follow the instructions below:\n",
    "1. Begin by clicking on the **Save Version** button in the top right corner of the window.  This will generate a pop-up window.  \n",
    "2. Ensure that the **Save and Run All** option is selected, and then click on the **Save** button.\n",
    "3. This generates a window in the bottom left corner of the notebook.  After it has finished running, click on the number to the right of the **Save Version** button.  This pulls up a list of versions on the right of the screen.  Click on the ellipsis **(...)** to the right of the most recent version, and select **Open in Viewer**.  This brings you into view mode of the same page. You will need to scroll down to get back to these instructions.\n",
    "4. Click on the **Data** tab near the top of the screen.  Then, click on the file you would like to submit, and click on the **Submit** button to submit your results to the leaderboard.\n",
    "\n",
    "You have now successfully submitted to the competition!\n",
    "\n",
    "If you want to keep working to improve your performance, select the **Edit** button in the top right of the screen. Then you can change your code and repeat the process. There's a lot of room to improve, and you will climb up the leaderboard as you work.\n"
   ]
  },
  {
   "cell_type": "markdown",
   "id": "df1a07e2",
   "metadata": {
    "papermill": {
     "duration": 0.004496,
     "end_time": "2025-05-04T17:59:13.309783",
     "exception": false,
     "start_time": "2025-05-04T17:59:13.305287",
     "status": "completed"
    },
    "tags": []
   },
   "source": [
    "# Keep going\n",
    "\n",
    "You've made your first model. But how can you quickly make it better?\n",
    "\n",
    "Learn how to improve your competition results by incorporating columns with **[missing values](https://www.kaggle.com/alexisbcook/missing-values)**."
   ]
  },
  {
   "cell_type": "markdown",
   "id": "fd326731",
   "metadata": {
    "papermill": {
     "duration": 0.004602,
     "end_time": "2025-05-04T17:59:13.319596",
     "exception": false,
     "start_time": "2025-05-04T17:59:13.314994",
     "status": "completed"
    },
    "tags": []
   },
   "source": [
    "---\n",
    "\n",
    "\n",
    "\n",
    "\n",
    "*Have questions or comments? Visit the [course discussion forum](https://www.kaggle.com/learn/intermediate-machine-learning/discussion) to chat with other learners.*"
   ]
  }
 ],
 "metadata": {
  "kaggle": {
   "accelerator": "none",
   "dataSources": [
    {
     "databundleVersionId": 111096,
     "sourceId": 10211,
     "sourceType": "competition"
    }
   ],
   "isGpuEnabled": false,
   "isInternetEnabled": false,
   "language": "python",
   "sourceType": "notebook"
  },
  "kernelspec": {
   "display_name": "Python 3",
   "language": "python",
   "name": "python3"
  },
  "language_info": {
   "codemirror_mode": {
    "name": "ipython",
    "version": 3
   },
   "file_extension": ".py",
   "mimetype": "text/x-python",
   "name": "python",
   "nbconvert_exporter": "python",
   "pygments_lexer": "ipython3",
   "version": "3.11.11"
  },
  "papermill": {
   "default_parameters": {},
   "duration": 22.125156,
   "end_time": "2025-05-04T17:59:14.045892",
   "environment_variables": {},
   "exception": null,
   "input_path": "__notebook__.ipynb",
   "output_path": "__notebook__.ipynb",
   "parameters": {},
   "start_time": "2025-05-04T17:58:51.920736",
   "version": "2.6.0"
  }
 },
 "nbformat": 4,
 "nbformat_minor": 5
}
